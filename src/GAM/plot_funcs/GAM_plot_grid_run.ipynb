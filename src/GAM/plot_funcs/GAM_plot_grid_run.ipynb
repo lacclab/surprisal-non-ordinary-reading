{
 "cells": [
  {
   "cell_type": "code",
   "execution_count": 2,
   "metadata": {},
   "outputs": [],
   "source": [
    "from src.GAM.plot_funcs.GAM_plot_grid_funcs import add_anotations_context_plots, run_p_vals_and_grid, get_large_models_names"
   ]
  },
  {
   "cell_type": "code",
   "execution_count": null,
   "metadata": {},
   "outputs": [],
   "source": [
    "# context plots pythia70m and gpt2\n",
    "results_dir = \"/src/GAM/results 0<RT<3000 firstpassNA\"\n",
    "et_data_name = \"et_20240505_with_all_surp20240624\"\n",
    "\n",
    "for model_name, model_name_title in zip(\n",
    "    [\n",
    "        \"gpt2\",\n",
    "        \"EleutherAI-pythia-70m\"\n",
    "        ], \n",
    "    [\n",
    "        \"GPT2 small\", \n",
    "        \"Pythia 70m\"\n",
    "        ]):\n",
    "    \n",
    "    add_anotations_context_plots(model_name, results_dir, et_data_name)"
   ]
  },
  {
   "cell_type": "code",
   "execution_count": null,
   "metadata": {},
   "outputs": [],
   "source": [
    "# grid plots pythia70m and gpt2\n",
    "results_dir = \"/src/GAM/results 0<RT<3000 firstpassNA\"\n",
    "et_data_name = \"et_20240505_with_all_surp20240624\"\n",
    "\n",
    "for model_name, model_name_title in zip(\n",
    "    [\n",
    "        \"gpt2\",\n",
    "        \"EleutherAI-pythia-70m\"\n",
    "        ], \n",
    "    [\n",
    "        \"GPT2 small\", \n",
    "        \"Pythia 70m\"\n",
    "        ]):\n",
    "    \n",
    "    for analysis_type in [\"Basic_Analysis\", \"Critical_Span\", \"Consecutive_Repeated_reading\"]:\n",
    "        run_p_vals_and_grid(model_name, model_name_title, analysis_type, results_dir, et_data_name)"
   ]
  },
  {
   "cell_type": "code",
   "execution_count": null,
   "metadata": {},
   "outputs": [],
   "source": [
    "# Different_Surprisal_Estimates\n",
    "results_dir = \"/src/GAM/results 0<RT<3000 firstpassNA\"\n",
    "et_data_name = \"et_20240505_with_all_surp20240624\"\n",
    "\n",
    "only_grid = True\n",
    "\n",
    "run_p_vals_and_grid(\n",
    "    model_name=\"all_models\", \n",
    "    model_name_title=\"Different Surprisal Estimates\",\n",
    "    analysis_type=\"Different_Surprisal_Estimates\", \n",
    "    results_dir=results_dir, \n",
    "    et_data_name=et_data_name,\n",
    "    only_grid=only_grid)"
   ]
  },
  {
   "cell_type": "code",
   "execution_count": null,
   "metadata": {},
   "outputs": [],
   "source": [
    "# Large models Context Plots\n",
    "results_dir = \"/src/GAM/results 0<RT<3000 firstpassNA\"\n",
    "et_data_name = \"et_20240505_large_models_context_cols_20240625\"\n",
    "model_names = get_large_models_names(\"/src/GAM/surp_large_models-context_zoom_in_cols.csv\")\n",
    "for model_name in model_names:\n",
    "    add_anotations_context_plots(model_name, results_dir, et_data_name)"
   ]
  },
  {
   "cell_type": "code",
   "execution_count": null,
   "metadata": {},
   "outputs": [],
   "source": [
    "# Large models 2 Context Plots\n",
    "results_dir = \"/src/GAM/results 0<RT<3000 firstpassNA\"\n",
    "et_data_name = \"et_20240505_large_models_part_2_context_cols_20240625\"\n",
    "model_names = get_large_models_names(\"/src/GAM/surp_large_models_part_2-context_zoom_in_cols.csv\")\n",
    "for model_name in model_names:\n",
    "    add_anotations_context_plots(model_name, results_dir, et_data_name)"
   ]
  },
  {
   "cell_type": "code",
   "execution_count": null,
   "metadata": {},
   "outputs": [],
   "source": [
    "# Large models 3 Context Plots\n",
    "results_dir = \"/src/GAM/results 0<RT<3000 firstpassNA\"\n",
    "et_data_name = \"et_20240505_large_models_part_3_context_cols_20240625\"\n",
    "model_names = get_large_models_names(\"/src/GAM/surp_large_models_part_3-context_zoom_in_cols.csv\")\n",
    "for model_name in model_names:\n",
    "    add_anotations_context_plots(model_name, results_dir, et_data_name)"
   ]
  },
  {
   "cell_type": "code",
   "execution_count": null,
   "metadata": {},
   "outputs": [],
   "source": [
    "# Article Context Plots\n",
    "add_anotations_context_plots(\n",
    "    model_name=\"EleutherAI-pythia-70m\", \n",
    "    et_data_name=\"et_20240505_EleutherAI-pythia-70m_article\",\n",
    "    results_dir=\"/src/GAM/results 0<RT<3000 firstpassNA\",\n",
    "    article_level=\"article\"\n",
    ")\n",
    "add_anotations_context_plots(\n",
    "    model_name=\"google-gemma-2-9b\", \n",
    "    et_data_name=\"et_20240505_gemma-2-9b_article\",\n",
    "    results_dir=\"/src/GAM/results 0<RT<3000 firstpassNA\",\n",
    "    article_level=\"article\"\n",
    ")"
   ]
  },
  {
   "cell_type": "code",
   "execution_count": null,
   "metadata": {},
   "outputs": [],
   "source": [
    "from src.GAM.GAM_plot_grid_funcs import get_large_models_names\n",
    "get_large_models_names(\"/src/GAM/surp_large_models-context_cols.csv\")"
   ]
  },
  {
   "cell_type": "code",
   "execution_count": null,
   "metadata": {},
   "outputs": [],
   "source": [
    "from src.GAM.GAM_plot_grid_funcs import get_large_models_names\n",
    "get_large_models_names(\"/src/GAM/surp_large_models_part_2-context_cols.csv\")"
   ]
  }
 ],
 "metadata": {
  "kernelspec": {
   "display_name": "Python 3",
   "language": "python",
   "name": "python3"
  },
  "language_info": {
   "codemirror_mode": {
    "name": "ipython",
    "version": 3
   },
   "file_extension": ".py",
   "mimetype": "text/x-python",
   "name": "python",
   "nbconvert_exporter": "python",
   "pygments_lexer": "ipython3",
   "version": "3.12.3"
  }
 },
 "nbformat": 4,
 "nbformat_minor": 2
}
